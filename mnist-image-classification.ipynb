{
 "cells": [
  {
   "cell_type": "code",
   "execution_count": null,
   "metadata": {
    "collapsed": true
   },
   "outputs": [],
   "source": [
    "'''\n",
    "A Convolutional Neural Network implementaion for handwritten digits classification.\n",
    "This example is using Tensorflow library.\n",
    "The dataset used is MNIST database of handwritten digits.\n",
    "(http://yann.lecun.com/exdb/mnist/)\n",
    "'''"
   ]
  },
  {
   "cell_type": "code",
   "execution_count": 1,
   "metadata": {
    "collapsed": false
   },
   "outputs": [
    {
     "name": "stdout",
     "output_type": "stream",
     "text": [
      "Extracting MNIST_data/train-images-idx3-ubyte.gz\n",
      "Extracting MNIST_data/train-labels-idx1-ubyte.gz\n",
      "Extracting MNIST_data/t10k-images-idx3-ubyte.gz\n",
      "Extracting MNIST_data/t10k-labels-idx1-ubyte.gz\n"
     ]
    }
   ],
   "source": [
    "import tensorflow as tf\n",
    "\n",
    "#Import MNIST dataset that has all the images\n",
    "from tensorflow.examples.tutorials.mnist import input_data\n",
    "mnist = input_data.read_data_sets('MNIST_data/', one_hot=True)"
   ]
  },
  {
   "cell_type": "code",
   "execution_count": 2,
   "metadata": {
    "collapsed": false
   },
   "outputs": [
    {
     "data": {
      "text/plain": [
       "'1.0.0'"
      ]
     },
     "execution_count": 2,
     "metadata": {},
     "output_type": "execute_result"
    }
   ],
   "source": [
    "tf.__version__"
   ]
  },
  {
   "cell_type": "code",
   "execution_count": 3,
   "metadata": {
    "collapsed": false
   },
   "outputs": [],
   "source": [
    "#Set the parameters..\n",
    "learning_rate = 0.001\n",
    "training_iterations = 200000\n",
    "batch_size = 128\n",
    "display_step = 10\n",
    "model_path = '/tmp/model.ckpt'\n",
    "\n",
    "#Network model parameters..\n",
    "n_input = 784 # MNIST data input (image shape = 28*28)\n",
    "n_classes = 10 # MNIST total classes (0-9 digits)\n",
    "dropout = 0.75 #probability to keep the output units\n",
    "\n",
    "#tensorflow graph input..\n",
    "x = tf.placeholder(tf.float32, [None, n_input])\n",
    "y = tf.placeholder(tf.float32, [None, n_classes])\n",
    "keep_prob = tf.placeholder(tf.float32) # dropout"
   ]
  },
  {
   "cell_type": "code",
   "execution_count": 4,
   "metadata": {
    "collapsed": true
   },
   "outputs": [],
   "source": [
    "# make functions for the operations..\n",
    "\n",
    "def conv_2d(x, w, b, strides=1):\n",
    "    x = tf.nn.conv2d(x, w, strides=[1, strides, strides, 1], padding='SAME')\n",
    "    x = tf.nn.bias_add(x, b)\n",
    "    return tf.nn.relu(x)\n",
    "\n",
    "def maxpool_2d(x, k=2):\n",
    "    return tf.nn.max_pool(x, ksize=[1, k, k, 1], strides=[1, k, k, 1], padding='SAME')\n",
    "\n",
    "#build the model..\n",
    "\n",
    "def conv_net(x, weights, biases, dropout):\n",
    "    x = tf.reshape(x, shape=[-1, 28, 28, 1])\n",
    "    \n",
    "    #convolutional layer\n",
    "    conv_1 = conv_2d(x, weights['wc1'], biases['bc1'])\n",
    "    #max pooling\n",
    "    conv_1 = maxpool_2d(conv_1, k=2)\n",
    "    \n",
    "    #2nd convolutional layer\n",
    "    conv_2 = conv_2d(conv_1, weights['wc2'], biases['bc2'])\n",
    "    #2nd maxpool layer\n",
    "    conv_2 = maxpool_2d(conv_2, k=2)\n",
    "    \n",
    "    #fully connected layers\n",
    "    #reshaping the convolutional layer output\n",
    "    fc_1 = tf.reshape(conv_2, [-1, weights['wd1'].get_shape().as_list()[0]])\n",
    "    fc_1 = tf.add(tf.matmul(fc_1, weights['wd1']), biases['bd1'])\n",
    "    fc_1 = tf.nn.relu(fc_1)\n",
    "    \n",
    "    #apply dropout\n",
    "    fc_1 = tf.nn.dropout(fc_1, dropout)\n",
    "    \n",
    "    #output, class prediction\n",
    "    out = tf.add(tf.matmul(fc_1, weights['out']), biases['out'])\n",
    "    \n",
    "    return out\n",
    "    "
   ]
  },
  {
   "cell_type": "code",
   "execution_count": 5,
   "metadata": {
    "collapsed": false
   },
   "outputs": [],
   "source": [
    "#make dictionaries of the weights and biases\n",
    "weights = {\n",
    "    # 5x5 conv, 1 input, 32 outputs\n",
    "    'wc1': tf.Variable(tf.random_normal([5, 5, 1, 32])),\n",
    "    # 5x5 conv, 32 inputs, 64 outputs\n",
    "    'wc2': tf.Variable(tf.random_normal([5, 5, 32, 64])),\n",
    "    # fully connected, 7x7x64 inputs, 1024 outputs\n",
    "    'wd1': tf.Variable(tf.random_normal([7*7*64, 1024])),\n",
    "    # fully vonnected 1024 inputs, 10 outputs\n",
    "    'out': tf.Variable(tf.random_normal([1024, n_classes]))\n",
    "}\n",
    "\n",
    "biases = {\n",
    "    'bc1': tf.Variable(tf.random_normal([32])),\n",
    "    'bc2': tf.Variable(tf.random_normal([64])),\n",
    "    'bd1': tf.Variable(tf.random_normal([1024])),\n",
    "    'out': tf.Variable(tf.random_normal([n_classes]))\n",
    "}\n",
    "\n",
    "#construct the model..\n",
    "pred = conv_net(x, weights, biases, keep_prob)\n",
    "\n",
    "#loss and optimizer\n",
    "cost = tf.reduce_mean(tf.nn.softmax_cross_entropy_with_logits(logits=pred, labels=y))\n",
    "optimizer = tf.train.AdamOptimizer(learning_rate=learning_rate).minimize(cost)\n",
    "\n",
    "#Evaluate model\n",
    "correct_pred = tf.equal(tf.argmax(pred, 1), tf.argmax(y, 1))\n",
    "accuracy = tf.reduce_mean(tf.cast(correct_pred, tf.float32))\n",
    "\n",
    "#Initialize the variables\n",
    "init = tf.global_variables_initializer()\n"
   ]
  },
  {
   "cell_type": "code",
   "execution_count": 6,
   "metadata": {
    "collapsed": true
   },
   "outputs": [],
   "source": [
    "#Save op to save and restore all the variables\n",
    "saver = tf.train.Saver()"
   ]
  },
  {
   "cell_type": "code",
   "execution_count": 7,
   "metadata": {
    "collapsed": true
   },
   "outputs": [],
   "source": [
    "from time import time"
   ]
  },
  {
   "cell_type": "code",
   "execution_count": 12,
   "metadata": {
    "collapsed": false
   },
   "outputs": [
    {
     "name": "stdout",
     "output_type": "stream",
     "text": [
      "Iter 1280, Minibatch Loss = 31679.54102, Training Accuracy = 0.26562\n",
      "Iter 2560, Minibatch Loss = 15754.62500, Training Accuracy = 0.45312\n",
      "Iter 3840, Minibatch Loss = 9969.21484, Training Accuracy = 0.61719\n",
      "Iter 5120, Minibatch Loss = 6388.72314, Training Accuracy = 0.67188\n",
      "Iter 6400, Minibatch Loss = 8468.33691, Training Accuracy = 0.66406\n",
      "Iter 7680, Minibatch Loss = 5249.65283, Training Accuracy = 0.76562\n",
      "Iter 8960, Minibatch Loss = 3926.67676, Training Accuracy = 0.85156\n",
      "Iter 10240, Minibatch Loss = 1991.85706, Training Accuracy = 0.88281\n",
      "Iter 11520, Minibatch Loss = 1965.12122, Training Accuracy = 0.87500\n",
      "Iter 12800, Minibatch Loss = 5759.95605, Training Accuracy = 0.82031\n",
      "Iter 14080, Minibatch Loss = 2854.27148, Training Accuracy = 0.86719\n",
      "Iter 15360, Minibatch Loss = 2022.49011, Training Accuracy = 0.87500\n",
      "Iter 16640, Minibatch Loss = 2277.18726, Training Accuracy = 0.85156\n",
      "Iter 17920, Minibatch Loss = 2164.70752, Training Accuracy = 0.88281\n",
      "Iter 19200, Minibatch Loss = 1784.49512, Training Accuracy = 0.86719\n",
      "Iter 20480, Minibatch Loss = 1986.43408, Training Accuracy = 0.84375\n",
      "Iter 21760, Minibatch Loss = 1105.19568, Training Accuracy = 0.90625\n",
      "Iter 23040, Minibatch Loss = 1343.79541, Training Accuracy = 0.92188\n",
      "Iter 24320, Minibatch Loss = 1689.68127, Training Accuracy = 0.92969\n",
      "Iter 25600, Minibatch Loss = 1766.56787, Training Accuracy = 0.91406\n",
      "Iter 26880, Minibatch Loss = 1339.62183, Training Accuracy = 0.92969\n",
      "Iter 28160, Minibatch Loss = 1393.58850, Training Accuracy = 0.92188\n",
      "Iter 29440, Minibatch Loss = 1879.33875, Training Accuracy = 0.90625\n",
      "Iter 30720, Minibatch Loss = 977.96985, Training Accuracy = 0.92969\n",
      "Iter 32000, Minibatch Loss = 1279.90625, Training Accuracy = 0.92969\n",
      "Iter 33280, Minibatch Loss = 1808.61707, Training Accuracy = 0.92188\n",
      "Iter 34560, Minibatch Loss = 971.01233, Training Accuracy = 0.93750\n",
      "Iter 35840, Minibatch Loss = 1404.74658, Training Accuracy = 0.96094\n",
      "Iter 37120, Minibatch Loss = 403.99881, Training Accuracy = 0.95312\n",
      "Iter 38400, Minibatch Loss = 503.87802, Training Accuracy = 0.96094\n",
      "Iter 39680, Minibatch Loss = 1933.13501, Training Accuracy = 0.90625\n",
      "Iter 40960, Minibatch Loss = 468.29492, Training Accuracy = 0.95312\n",
      "Iter 42240, Minibatch Loss = 477.84637, Training Accuracy = 0.94531\n",
      "Iter 43520, Minibatch Loss = 245.17741, Training Accuracy = 0.96094\n",
      "Iter 44800, Minibatch Loss = 1358.82910, Training Accuracy = 0.93750\n",
      "Iter 46080, Minibatch Loss = 1705.16711, Training Accuracy = 0.93750\n",
      "Iter 47360, Minibatch Loss = 2200.16406, Training Accuracy = 0.92969\n",
      "Iter 48640, Minibatch Loss = 584.45471, Training Accuracy = 0.94531\n",
      "Iter 49920, Minibatch Loss = 760.19775, Training Accuracy = 0.92969\n",
      "Iter 51200, Minibatch Loss = 494.07217, Training Accuracy = 0.96094\n",
      "Iter 52480, Minibatch Loss = 1194.13037, Training Accuracy = 0.94531\n",
      "Iter 53760, Minibatch Loss = 519.93579, Training Accuracy = 0.96094\n",
      "Iter 55040, Minibatch Loss = 614.10583, Training Accuracy = 0.94531\n",
      "Iter 56320, Minibatch Loss = 434.94809, Training Accuracy = 0.93750\n",
      "Iter 57600, Minibatch Loss = 1414.24316, Training Accuracy = 0.92969\n",
      "Iter 58880, Minibatch Loss = 1241.97290, Training Accuracy = 0.93750\n",
      "Iter 60160, Minibatch Loss = 1377.72998, Training Accuracy = 0.91406\n",
      "Iter 61440, Minibatch Loss = 576.88928, Training Accuracy = 0.94531\n",
      "Iter 62720, Minibatch Loss = 948.17432, Training Accuracy = 0.95312\n",
      "Iter 64000, Minibatch Loss = 1083.25793, Training Accuracy = 0.94531\n",
      "Iter 65280, Minibatch Loss = 278.88440, Training Accuracy = 0.97656\n",
      "Iter 66560, Minibatch Loss = 93.70139, Training Accuracy = 0.97656\n",
      "Iter 67840, Minibatch Loss = 282.22833, Training Accuracy = 0.97656\n",
      "Iter 69120, Minibatch Loss = 601.52417, Training Accuracy = 0.94531\n",
      "Iter 70400, Minibatch Loss = 689.30554, Training Accuracy = 0.96094\n",
      "Iter 71680, Minibatch Loss = 422.17969, Training Accuracy = 0.98438\n",
      "Iter 72960, Minibatch Loss = 855.01672, Training Accuracy = 0.92969\n",
      "Iter 74240, Minibatch Loss = 238.63466, Training Accuracy = 0.97656\n",
      "Iter 75520, Minibatch Loss = 140.58250, Training Accuracy = 0.96875\n",
      "Iter 76800, Minibatch Loss = 276.18842, Training Accuracy = 0.96094\n",
      "Iter 78080, Minibatch Loss = 286.22391, Training Accuracy = 0.96875\n",
      "Iter 79360, Minibatch Loss = 37.11685, Training Accuracy = 0.98438\n",
      "Iter 80640, Minibatch Loss = 570.35425, Training Accuracy = 0.97656\n",
      "Iter 81920, Minibatch Loss = 50.97263, Training Accuracy = 0.98438\n",
      "Iter 83200, Minibatch Loss = 500.83179, Training Accuracy = 0.93750\n",
      "Iter 84480, Minibatch Loss = 391.10284, Training Accuracy = 0.96094\n",
      "Iter 85760, Minibatch Loss = 156.97096, Training Accuracy = 0.96875\n",
      "Iter 87040, Minibatch Loss = 118.19563, Training Accuracy = 0.99219\n",
      "Iter 88320, Minibatch Loss = 91.69951, Training Accuracy = 0.98438\n",
      "Iter 89600, Minibatch Loss = 1141.43396, Training Accuracy = 0.93750\n",
      "Iter 90880, Minibatch Loss = 207.71819, Training Accuracy = 0.99219\n",
      "Iter 92160, Minibatch Loss = 615.69275, Training Accuracy = 0.95312\n",
      "Iter 93440, Minibatch Loss = 596.44299, Training Accuracy = 0.96094\n",
      "Iter 94720, Minibatch Loss = 267.94751, Training Accuracy = 0.97656\n",
      "Iter 96000, Minibatch Loss = 155.38383, Training Accuracy = 0.96094\n",
      "Iter 97280, Minibatch Loss = 475.33881, Training Accuracy = 0.95312\n",
      "Iter 98560, Minibatch Loss = 729.79749, Training Accuracy = 0.93750\n",
      "Iter 99840, Minibatch Loss = 172.16989, Training Accuracy = 0.96875\n",
      "Iter 101120, Minibatch Loss = 389.29593, Training Accuracy = 0.93750\n",
      "Iter 102400, Minibatch Loss = 812.40021, Training Accuracy = 0.93750\n",
      "Iter 103680, Minibatch Loss = 469.73938, Training Accuracy = 0.95312\n",
      "Iter 104960, Minibatch Loss = 274.55405, Training Accuracy = 0.95312\n",
      "Iter 106240, Minibatch Loss = 701.65918, Training Accuracy = 0.96875\n",
      "Iter 107520, Minibatch Loss = 319.43616, Training Accuracy = 0.96094\n",
      "Iter 108800, Minibatch Loss = 223.61111, Training Accuracy = 0.96875\n",
      "Iter 110080, Minibatch Loss = 504.24298, Training Accuracy = 0.94531\n",
      "Iter 111360, Minibatch Loss = 411.25513, Training Accuracy = 0.97656\n",
      "Iter 112640, Minibatch Loss = 172.88568, Training Accuracy = 0.94531\n",
      "Iter 113920, Minibatch Loss = 394.48590, Training Accuracy = 0.96875\n",
      "Iter 115200, Minibatch Loss = 540.84857, Training Accuracy = 0.96094\n",
      "Iter 116480, Minibatch Loss = 97.24419, Training Accuracy = 0.98438\n",
      "Iter 117760, Minibatch Loss = 518.27856, Training Accuracy = 0.94531\n",
      "Iter 119040, Minibatch Loss = 138.17378, Training Accuracy = 0.95312\n",
      "Iter 120320, Minibatch Loss = 242.58917, Training Accuracy = 0.96094\n",
      "Iter 121600, Minibatch Loss = 526.95264, Training Accuracy = 0.96875\n",
      "Iter 122880, Minibatch Loss = 511.02597, Training Accuracy = 0.95312\n",
      "Iter 124160, Minibatch Loss = 115.86424, Training Accuracy = 0.97656\n",
      "Iter 125440, Minibatch Loss = 86.67662, Training Accuracy = 0.96875\n",
      "Iter 126720, Minibatch Loss = 569.95148, Training Accuracy = 0.93750\n",
      "Iter 128000, Minibatch Loss = 609.30933, Training Accuracy = 0.96094\n",
      "Iter 129280, Minibatch Loss = 256.78687, Training Accuracy = 0.96875\n",
      "Iter 130560, Minibatch Loss = 360.49667, Training Accuracy = 0.96094\n",
      "Iter 131840, Minibatch Loss = 113.14299, Training Accuracy = 0.98438\n",
      "Iter 133120, Minibatch Loss = 266.17020, Training Accuracy = 0.97656\n",
      "Iter 134400, Minibatch Loss = 125.15517, Training Accuracy = 0.96875\n",
      "Iter 135680, Minibatch Loss = 444.63196, Training Accuracy = 0.96094\n",
      "Iter 136960, Minibatch Loss = 282.21808, Training Accuracy = 0.97656\n",
      "Iter 138240, Minibatch Loss = 32.96048, Training Accuracy = 0.98438\n",
      "Iter 139520, Minibatch Loss = 417.77069, Training Accuracy = 0.92969\n",
      "Iter 140800, Minibatch Loss = 597.49561, Training Accuracy = 0.96875\n",
      "Iter 142080, Minibatch Loss = 135.26712, Training Accuracy = 0.97656\n",
      "Iter 143360, Minibatch Loss = 78.78583, Training Accuracy = 0.99219\n",
      "Iter 144640, Minibatch Loss = 238.10190, Training Accuracy = 0.97656\n",
      "Iter 145920, Minibatch Loss = 15.50356, Training Accuracy = 0.98438\n",
      "Iter 147200, Minibatch Loss = 312.41641, Training Accuracy = 0.96875\n",
      "Iter 148480, Minibatch Loss = 0.00000, Training Accuracy = 1.00000\n",
      "Iter 149760, Minibatch Loss = 160.39612, Training Accuracy = 0.99219\n",
      "Iter 151040, Minibatch Loss = 484.10791, Training Accuracy = 0.95312\n",
      "Iter 152320, Minibatch Loss = 815.29333, Training Accuracy = 0.95312\n",
      "Iter 153600, Minibatch Loss = 339.57532, Training Accuracy = 0.97656\n",
      "Iter 154880, Minibatch Loss = 590.75049, Training Accuracy = 0.95312\n",
      "Iter 156160, Minibatch Loss = 483.45911, Training Accuracy = 0.92969\n",
      "Iter 157440, Minibatch Loss = 76.24769, Training Accuracy = 0.98438\n",
      "Iter 158720, Minibatch Loss = 307.47189, Training Accuracy = 0.98438\n",
      "Iter 160000, Minibatch Loss = 102.32010, Training Accuracy = 0.97656\n",
      "Iter 161280, Minibatch Loss = 428.83966, Training Accuracy = 0.94531\n",
      "Iter 162560, Minibatch Loss = 520.22437, Training Accuracy = 0.96094\n",
      "Iter 163840, Minibatch Loss = 119.50629, Training Accuracy = 0.97656\n",
      "Iter 165120, Minibatch Loss = 49.98744, Training Accuracy = 0.99219\n",
      "Iter 166400, Minibatch Loss = 63.27101, Training Accuracy = 0.97656\n",
      "Iter 167680, Minibatch Loss = 322.37592, Training Accuracy = 0.97656\n",
      "Iter 168960, Minibatch Loss = 161.09293, Training Accuracy = 0.96094\n",
      "Iter 170240, Minibatch Loss = 2.64186, Training Accuracy = 0.99219\n",
      "Iter 171520, Minibatch Loss = 165.08018, Training Accuracy = 0.97656\n",
      "Iter 172800, Minibatch Loss = 330.81824, Training Accuracy = 0.96875\n",
      "Iter 174080, Minibatch Loss = 164.62207, Training Accuracy = 0.97656\n",
      "Iter 175360, Minibatch Loss = 53.76481, Training Accuracy = 0.97656\n",
      "Iter 176640, Minibatch Loss = 50.17392, Training Accuracy = 0.98438\n",
      "Iter 177920, Minibatch Loss = 47.53807, Training Accuracy = 0.98438\n",
      "Iter 179200, Minibatch Loss = 0.00000, Training Accuracy = 1.00000\n",
      "Iter 180480, Minibatch Loss = 45.78958, Training Accuracy = 0.98438\n",
      "Iter 181760, Minibatch Loss = 234.91991, Training Accuracy = 0.95312\n",
      "Iter 183040, Minibatch Loss = 626.52161, Training Accuracy = 0.94531\n",
      "Iter 184320, Minibatch Loss = 123.83011, Training Accuracy = 0.96875\n",
      "Iter 185600, Minibatch Loss = 245.34100, Training Accuracy = 0.98438\n",
      "Iter 186880, Minibatch Loss = 178.68266, Training Accuracy = 0.96875\n",
      "Iter 188160, Minibatch Loss = 126.22906, Training Accuracy = 0.96875\n",
      "Iter 189440, Minibatch Loss = 55.09156, Training Accuracy = 0.97656\n",
      "Iter 190720, Minibatch Loss = 22.30424, Training Accuracy = 0.98438\n",
      "Iter 192000, Minibatch Loss = 165.47527, Training Accuracy = 0.97656\n",
      "Iter 193280, Minibatch Loss = 246.68614, Training Accuracy = 0.96094\n",
      "Iter 194560, Minibatch Loss = 16.75441, Training Accuracy = 0.99219\n",
      "Iter 195840, Minibatch Loss = 72.89577, Training Accuracy = 0.97656\n",
      "Iter 197120, Minibatch Loss = 396.73386, Training Accuracy = 0.95312\n",
      "Iter 198400, Minibatch Loss = 257.78662, Training Accuracy = 0.95312\n",
      "Iter 199680, Minibatch Loss = 96.60525, Training Accuracy = 0.96875\n",
      "\n",
      "Optimization Finished!\n",
      "\n",
      "Time taken to train:  519.3433113098145\n",
      "\n",
      "Testing Accuracy:  0.966797\n"
     ]
    }
   ],
   "source": [
    "# Launch the graph\n",
    "with tf.Session() as sess:\n",
    "    sess.run(init)\n",
    "    step = 1\n",
    "    start = time()\n",
    "    \n",
    "    while step * batch_size < training_iterations:\n",
    "        batch_x, batch_y = mnist.train.next_batch(batch_size)\n",
    "        #run optimization op\n",
    "        sess.run(optimizer, feed_dict={x: batch_x, y: batch_y, keep_prob: 0.75})\n",
    "        \n",
    "        if step % display_step == 0:\n",
    "            #calculate batch loss and accuracy\n",
    "            loss, acc = sess.run([cost, accuracy], feed_dict={x: batch_x, y: batch_y, keep_prob: 1.})\n",
    "            \n",
    "            print('Iter '+str(step*batch_size)+', Minibatch Loss = '+ '{:.5f}'.format(loss)+', Training Accuracy = '+ '{:.5f}'.format(acc))\n",
    "            \n",
    "        step += 1\n",
    "            \n",
    "    stop = time()\n",
    "    print('\\nOptimization Finished!')\n",
    "    print('\\nTime taken to train: ', stop-start)\n",
    "    \n",
    "    #calculate accuracy for 512 mnist test images\n",
    "    print('\\nTesting Accuracy: ', sess.run(accuracy, feed_dict={x: mnist.test.images[:512], y: mnist.test.labels[:512], keep_prob: 1.}))\n",
    "    \n",
    "    #save model weights to disk\n",
    "    #save_path = saver.save(sess, model_path)\n",
    "    #print('Model saved in file: %s' %save_path)"
   ]
  },
  {
   "cell_type": "code",
   "execution_count": null,
   "metadata": {
    "collapsed": true
   },
   "outputs": [],
   "source": []
  }
 ],
 "metadata": {
  "kernelspec": {
   "display_name": "Python 3",
   "language": "python",
   "name": "python3"
  },
  "language_info": {
   "codemirror_mode": {
    "name": "ipython",
    "version": 3
   },
   "file_extension": ".py",
   "mimetype": "text/x-python",
   "name": "python",
   "nbconvert_exporter": "python",
   "pygments_lexer": "ipython3",
   "version": "3.5.3"
  }
 },
 "nbformat": 4,
 "nbformat_minor": 2
}
